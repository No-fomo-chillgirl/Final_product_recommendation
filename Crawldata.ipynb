{
 "cells": [
  {
   "cell_type": "code",
   "execution_count": 1,
   "metadata": {},
   "outputs": [],
   "source": [
    "from selenium import webdriver\n",
    "from selenium.webdriver.common.by import By\n",
    "import time\n",
    "import os\n",
    "import pandas as pd\n",
    "# from mylibs import *"
   ]
  },
  {
   "cell_type": "code",
   "execution_count": 4,
   "metadata": {},
   "outputs": [],
   "source": [
    "list_msp =[]\n",
    "list_imgs = []\n",
    "list_dataimg=[]"
   ]
  },
  {
   "cell_type": "markdown",
   "metadata": {},
   "source": [
    "## Crawl Kem chống nắng "
   ]
  },
  {
   "cell_type": "code",
   "execution_count": 5,
   "metadata": {},
   "outputs": [
    {
     "name": "stdout",
     "output_type": "stream",
     "text": [
      "40\n",
      "40\n",
      "40\n",
      "80\n",
      "80\n",
      "80\n",
      "120\n",
      "120\n",
      "120\n",
      "160\n",
      "160\n",
      "160\n",
      "200\n",
      "200\n",
      "200\n",
      "240\n",
      "240\n",
      "240\n",
      "280\n",
      "280\n",
      "280\n",
      "320\n",
      "320\n",
      "320\n",
      "335\n",
      "335\n",
      "335\n"
     ]
    }
   ],
   "source": [
    "# #Lấy danh sách nhiều trang\n",
    "driver = webdriver.Chrome()\n",
    "driver.maximize_window()\n",
    "\n",
    "\n",
    "for page in range(1,10):\n",
    "    url = f'https://hasaki.vn/danh-muc/chong-nang-da-mat-c11.html?p={page}'\n",
    "    driver.get(url)\n",
    "    # cho 1 khoảng thời gian loaddata\n",
    "    time.sleep(2)\n",
    "\n",
    "    #Xác định vùng chứa\n",
    "    tag_products_container = driver.find_element(by=By.CLASS_NAME,value='ProductGrid__grid')\n",
    "    # lấy mã sản phẩm\n",
    "    tag_product_links = tag_products_container.find_elements(by=By.CSS_SELECTOR,value='a.block_info_item_sp')\n",
    "    for tag_product_link in tag_product_links:\n",
    "        list_msp.append(tag_product_link.get_attribute('data-id'))\n",
    "    # lấy link ảnh\n",
    "    tag_img_links = tag_products_container.find_elements(by=By.CSS_SELECTOR,value='img.img_thumb')\n",
    "    for tag_img_link in tag_img_links:\n",
    "        list_imgs.append(tag_img_link.get_attribute('src'))\n",
    "        list_dataimg.append(tag_img_link.get_attribute('data-src'))\n",
    "    \n",
    "    print(len(list_msp))\n",
    "    print(len(list_imgs))\n",
    "    print(len(list_dataimg))\n",
    "\n",
    "\n",
    "driver.close()"
   ]
  },
  {
   "cell_type": "markdown",
   "metadata": {},
   "source": [
    "## Crawl Tẩy trang"
   ]
  },
  {
   "cell_type": "code",
   "execution_count": 6,
   "metadata": {},
   "outputs": [
    {
     "name": "stdout",
     "output_type": "stream",
     "text": [
      "369\n",
      "369\n",
      "369\n",
      "403\n",
      "403\n",
      "403\n",
      "437\n",
      "437\n",
      "437\n",
      "471\n",
      "471\n",
      "471\n",
      "505\n",
      "505\n",
      "505\n",
      "539\n",
      "539\n",
      "539\n",
      "573\n",
      "573\n",
      "573\n",
      "583\n",
      "583\n",
      "583\n"
     ]
    }
   ],
   "source": [
    "\n",
    "# #Lấy danh sách nhiều trang\n",
    "driver = webdriver.Chrome()\n",
    "driver.maximize_window()\n",
    "\n",
    "\n",
    "for page in range(1,9):\n",
    "    url = f'https://hasaki.vn/danh-muc/tay-trang-mat-c48.html?p={page}'\n",
    "    driver.get(url)\n",
    "\n",
    "    # cho 1 khoảng thời gian loaddata\n",
    "    time.sleep(2)\n",
    "\n",
    "    #Xác định vùng chứa\n",
    "    tag_products_container = driver.find_element(by=By.CLASS_NAME,value='ProductGrid__grid')\n",
    "    # lấy mã sản phẩm\n",
    "    tag_product_links = tag_products_container.find_elements(by=By.CSS_SELECTOR,value='a.block_info_item_sp')\n",
    "    for tag_product_link in tag_product_links:\n",
    "        list_msp.append(tag_product_link.get_attribute('data-id'))\n",
    " \n",
    "    # lấy link ảnh\n",
    "    tag_img_links = tag_products_container.find_elements(by=By.CSS_SELECTOR,value='img.img_thumb')\n",
    "    for tag_img_link in tag_img_links:\n",
    "        list_imgs.append(tag_img_link.get_attribute('src'))\n",
    "        list_dataimg.append(tag_img_link.get_attribute('data-src'))\n",
    "    \n",
    "    print(len(list_msp))\n",
    "    print(len(list_imgs))\n",
    "    print(len(list_dataimg))\n",
    "    \n",
    "driver.close()"
   ]
  },
  {
   "cell_type": "markdown",
   "metadata": {},
   "source": [
    "## Crawl Toner"
   ]
  },
  {
   "cell_type": "code",
   "execution_count": 7,
   "metadata": {},
   "outputs": [
    {
     "name": "stdout",
     "output_type": "stream",
     "text": [
      "623\n",
      "623\n",
      "623\n",
      "663\n",
      "663\n",
      "663\n",
      "703\n",
      "703\n",
      "703\n",
      "710\n",
      "710\n",
      "710\n"
     ]
    }
   ],
   "source": [
    "\n",
    "# #Lấy danh sách nhiều trang\n",
    "driver = webdriver.Chrome()\n",
    "driver.maximize_window()\n",
    "\n",
    "\n",
    "for page in range(1,5):\n",
    "    url = f'https://hasaki.vn/danh-muc/toner-c1857.html?p={page}'\n",
    "    driver.get(url)\n",
    "\n",
    "    # cho 1 khoảng thời gian loaddata\n",
    "    time.sleep(2)\n",
    "\n",
    "    #Xác định vùng chứa\n",
    "    tag_products_container = driver.find_element(by=By.CLASS_NAME,value='ProductGrid__grid')\n",
    "    # lấy mã sản phẩm\n",
    "    tag_product_links = tag_products_container.find_elements(by=By.CSS_SELECTOR,value='a.block_info_item_sp')\n",
    "    for tag_product_link in tag_product_links:\n",
    "        list_msp.append(tag_product_link.get_attribute('data-id'))\n",
    " \n",
    "    # lấy link ảnh\n",
    "    tag_img_links = tag_products_container.find_elements(by=By.CSS_SELECTOR,value='img.img_thumb')\n",
    "    for tag_img_link in tag_img_links:\n",
    "        list_imgs.append(tag_img_link.get_attribute('src'))\n",
    "        list_dataimg.append(tag_img_link.get_attribute('data-src'))\n",
    "    \n",
    "    print(len(list_msp))\n",
    "    print(len(list_imgs))\n",
    "    print(len(list_dataimg))\n",
    "    \n",
    "driver.close()\n",
    "    \n",
    "    "
   ]
  },
  {
   "cell_type": "markdown",
   "metadata": {},
   "source": [
    "## Crawl Sữa rửa mặt"
   ]
  },
  {
   "cell_type": "code",
   "execution_count": 8,
   "metadata": {},
   "outputs": [
    {
     "name": "stdout",
     "output_type": "stream",
     "text": [
      "746\n",
      "746\n",
      "746\n",
      "782\n",
      "782\n",
      "782\n",
      "818\n",
      "818\n",
      "818\n",
      "854\n",
      "854\n",
      "854\n",
      "890\n",
      "890\n",
      "890\n",
      "926\n",
      "926\n",
      "926\n",
      "962\n",
      "962\n",
      "962\n",
      "998\n",
      "998\n",
      "998\n",
      "1034\n",
      "1034\n",
      "1034\n",
      "1070\n",
      "1070\n",
      "1070\n",
      "1106\n",
      "1106\n",
      "1106\n",
      "1126\n",
      "1126\n",
      "1126\n"
     ]
    }
   ],
   "source": [
    "\n",
    "# #Lấy danh sách nhiều trang\n",
    "driver = webdriver.Chrome()\n",
    "driver.maximize_window()\n",
    "\n",
    "\n",
    "for page in range(1,13):\n",
    "    url = f'https://hasaki.vn/danh-muc/sua-rua-mat-c19.html?p={page}'\n",
    "    driver.get(url)\n",
    "\n",
    "    # cho 1 khoảng thời gian loaddata\n",
    "    time.sleep(2)\n",
    "\n",
    "    #Xác định vùng chứa\n",
    "    tag_products_container = driver.find_element(by=By.CLASS_NAME,value='ProductGrid__grid')\n",
    "    # lấy mã sản phẩm\n",
    "    tag_product_links = tag_products_container.find_elements(by=By.CSS_SELECTOR,value='a.block_info_item_sp')\n",
    "    for tag_product_link in tag_product_links:\n",
    "        list_msp.append(tag_product_link.get_attribute('data-id'))\n",
    " \n",
    "    # lấy link ảnh\n",
    "    tag_img_links = tag_products_container.find_elements(by=By.CSS_SELECTOR,value='img.img_thumb')\n",
    "    for tag_img_link in tag_img_links:\n",
    "        list_imgs.append(tag_img_link.get_attribute('src'))\n",
    "        list_dataimg.append(tag_img_link.get_attribute('data-src'))\n",
    "    \n",
    "    print(len(list_msp))\n",
    "    print(len(list_imgs))\n",
    "    print(len(list_dataimg))\n",
    "    \n",
    "driver.close()"
   ]
  },
  {
   "cell_type": "markdown",
   "metadata": {},
   "source": [
    "## Crawl Tẩy tế bào chết"
   ]
  },
  {
   "cell_type": "code",
   "execution_count": 9,
   "metadata": {},
   "outputs": [
    {
     "name": "stdout",
     "output_type": "stream",
     "text": [
      "1166\n",
      "1166\n",
      "1166\n",
      "1205\n",
      "1205\n",
      "1205\n"
     ]
    }
   ],
   "source": [
    "\n",
    "# #Lấy danh sách nhiều trang\n",
    "driver = webdriver.Chrome()\n",
    "driver.maximize_window()\n",
    "\n",
    "\n",
    "for page in range(1,3):\n",
    "    url = f'https://hasaki.vn/danh-muc/tay-te-bao-chet-da-mat-c35.html?p={page}'\n",
    "    driver.get(url)\n",
    "\n",
    "    # cho 1 khoảng thời gian loaddata\n",
    "    time.sleep(2)\n",
    "\n",
    "    #Xác định vùng chứa\n",
    "    tag_products_container = driver.find_element(by=By.CLASS_NAME,value='ProductGrid__grid')\n",
    "    # lấy mã sản phẩm\n",
    "    tag_product_links = tag_products_container.find_elements(by=By.CSS_SELECTOR,value='a.block_info_item_sp')\n",
    "    for tag_product_link in tag_product_links:\n",
    "        list_msp.append(tag_product_link.get_attribute('data-id'))\n",
    " \n",
    "    # lấy link ảnh\n",
    "    tag_img_links = tag_products_container.find_elements(by=By.CSS_SELECTOR,value='img.img_thumb')\n",
    "    for tag_img_link in tag_img_links:\n",
    "        list_imgs.append(tag_img_link.get_attribute('src'))\n",
    "        list_dataimg.append(tag_img_link.get_attribute('data-src'))\n",
    "    \n",
    "    print(len(list_msp))\n",
    "    print(len(list_imgs))\n",
    "    print(len(list_dataimg))\n",
    "    \n",
    "driver.close()"
   ]
  },
  {
   "cell_type": "markdown",
   "metadata": {},
   "source": [
    "## Crawl Retinol"
   ]
  },
  {
   "cell_type": "code",
   "execution_count": 10,
   "metadata": {},
   "outputs": [
    {
     "name": "stdout",
     "output_type": "stream",
     "text": [
      "1243\n",
      "1243\n",
      "1243\n"
     ]
    }
   ],
   "source": [
    "\n",
    "# #Lấy danh sách nhiều trang\n",
    "driver = webdriver.Chrome()\n",
    "driver.maximize_window()\n",
    "\n",
    "\n",
    "\n",
    "url = 'https://hasaki.vn/tag/retinol.html'\n",
    "driver.get(url)\n",
    "\n",
    "# cho 1 khoảng thời gian loaddata\n",
    "time.sleep(2)\n",
    "\n",
    "#Xác định vùng chứa\n",
    "tag_products_container = driver.find_element(by=By.CLASS_NAME,value='list_product')\n",
    "# lấy mã sản phẩm\n",
    "tag_product_links = tag_products_container.find_elements(by=By.CSS_SELECTOR,value='a.block_info_item_sp')\n",
    "for tag_product_link in tag_product_links:\n",
    "    list_msp.append(tag_product_link.get_attribute('data-id'))\n",
    "\n",
    "\n",
    "# lấy link ảnh\n",
    "tag_img_links = tag_products_container.find_elements(by=By.CSS_SELECTOR,value='img.img_thumb')\n",
    "for tag_img_link in tag_img_links:\n",
    "    list_imgs.append(tag_img_link.get_attribute('src'))\n",
    "    list_dataimg.append(tag_img_link.get_attribute('data-src'))\n",
    "\n",
    "print(len(list_msp))\n",
    "print(len(list_imgs))\n",
    "print(len(list_dataimg)) \n",
    "\n",
    "driver.close()"
   ]
  },
  {
   "cell_type": "code",
   "execution_count": 11,
   "metadata": {},
   "outputs": [],
   "source": [
    "# Tạo DataFrame\n",
    "df = pd.DataFrame({\n",
    "    \"ma_san_pham\": list_msp,\n",
    "    \"hinh_anh\": list_imgs,\n",
    "    \"hinh_anh_2\":list_dataimg\n",
    "\n",
    "})"
   ]
  },
  {
   "cell_type": "code",
   "execution_count": 2,
   "metadata": {},
   "outputs": [],
   "source": [
    "df = pd.read_csv('hinhanhcrawl.csv')"
   ]
  },
  {
   "cell_type": "code",
   "execution_count": 3,
   "metadata": {},
   "outputs": [
    {
     "data": {
      "text/plain": [
       "(1243, 3)"
      ]
     },
     "execution_count": 3,
     "metadata": {},
     "output_type": "execute_result"
    }
   ],
   "source": [
    "df.shape"
   ]
  },
  {
   "cell_type": "code",
   "execution_count": 4,
   "metadata": {},
   "outputs": [
    {
     "data": {
      "text/plain": [
       "(1162, 3)"
      ]
     },
     "execution_count": 4,
     "metadata": {},
     "output_type": "execute_result"
    }
   ],
   "source": [
    "df=df.drop_duplicates()\n",
    "df.shape"
   ]
  },
  {
   "cell_type": "code",
   "execution_count": 5,
   "metadata": {},
   "outputs": [
    {
     "data": {
      "text/plain": [
       "(1124, 3)"
      ]
     },
     "execution_count": 5,
     "metadata": {},
     "output_type": "execute_result"
    }
   ],
   "source": [
    "df=df.dropna()\n",
    "df.shape"
   ]
  },
  {
   "cell_type": "code",
   "execution_count": 6,
   "metadata": {},
   "outputs": [],
   "source": [
    "df['ma_san_pham']=df['ma_san_pham'].astype('int')"
   ]
  },
  {
   "cell_type": "code",
   "execution_count": 7,
   "metadata": {},
   "outputs": [],
   "source": [
    "df = df.drop(columns='hinh_anh')"
   ]
  },
  {
   "cell_type": "code",
   "execution_count": 8,
   "metadata": {},
   "outputs": [],
   "source": [
    "df.rename(columns={\"hinh_anh_2\": \"hinh_anh\"}, inplace=True)"
   ]
  },
  {
   "cell_type": "code",
   "execution_count": 9,
   "metadata": {},
   "outputs": [
    {
     "data": {
      "text/html": [
       "<div>\n",
       "<style scoped>\n",
       "    .dataframe tbody tr th:only-of-type {\n",
       "        vertical-align: middle;\n",
       "    }\n",
       "\n",
       "    .dataframe tbody tr th {\n",
       "        vertical-align: top;\n",
       "    }\n",
       "\n",
       "    .dataframe thead th {\n",
       "        text-align: right;\n",
       "    }\n",
       "</style>\n",
       "<table border=\"1\" class=\"dataframe\">\n",
       "  <thead>\n",
       "    <tr style=\"text-align: right;\">\n",
       "      <th></th>\n",
       "      <th>ma_san_pham</th>\n",
       "      <th>hinh_anh</th>\n",
       "    </tr>\n",
       "  </thead>\n",
       "  <tbody>\n",
       "    <tr>\n",
       "      <th>0</th>\n",
       "      <td>253900006</td>\n",
       "      <td>https://media.hcdn.vn/catalog/product/p/r/prom...</td>\n",
       "    </tr>\n",
       "    <tr>\n",
       "      <th>1</th>\n",
       "      <td>422218358</td>\n",
       "      <td>https://media.hcdn.vn/catalog/product/p/r/prom...</td>\n",
       "    </tr>\n",
       "    <tr>\n",
       "      <th>2</th>\n",
       "      <td>422218359</td>\n",
       "      <td>https://media.hcdn.vn/catalog/product/p/r/prom...</td>\n",
       "    </tr>\n",
       "    <tr>\n",
       "      <th>3</th>\n",
       "      <td>204900013</td>\n",
       "      <td>https://media.hcdn.vn/catalog/product/p/r/prom...</td>\n",
       "    </tr>\n",
       "    <tr>\n",
       "      <th>4</th>\n",
       "      <td>100160022</td>\n",
       "      <td>https://media.hcdn.vn/catalog/product/p/r/prom...</td>\n",
       "    </tr>\n",
       "  </tbody>\n",
       "</table>\n",
       "</div>"
      ],
      "text/plain": [
       "   ma_san_pham                                           hinh_anh\n",
       "0    253900006  https://media.hcdn.vn/catalog/product/p/r/prom...\n",
       "1    422218358  https://media.hcdn.vn/catalog/product/p/r/prom...\n",
       "2    422218359  https://media.hcdn.vn/catalog/product/p/r/prom...\n",
       "3    204900013  https://media.hcdn.vn/catalog/product/p/r/prom...\n",
       "4    100160022  https://media.hcdn.vn/catalog/product/p/r/prom..."
      ]
     },
     "execution_count": 9,
     "metadata": {},
     "output_type": "execute_result"
    }
   ],
   "source": [
    "df.head()"
   ]
  },
  {
   "cell_type": "code",
   "execution_count": null,
   "metadata": {},
   "outputs": [],
   "source": [
    "df.to_csv('hinhanh.csv',index=False)"
   ]
  }
 ],
 "metadata": {
  "kernelspec": {
   "display_name": "Python 3",
   "language": "python",
   "name": "python3"
  },
  "language_info": {
   "codemirror_mode": {
    "name": "ipython",
    "version": 3
   },
   "file_extension": ".py",
   "mimetype": "text/x-python",
   "name": "python",
   "nbconvert_exporter": "python",
   "pygments_lexer": "ipython3",
   "version": "3.10.10"
  }
 },
 "nbformat": 4,
 "nbformat_minor": 2
}
