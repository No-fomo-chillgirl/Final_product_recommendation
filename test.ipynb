{
 "cells": [
  {
   "cell_type": "code",
   "execution_count": 2,
   "metadata": {},
   "outputs": [],
   "source": [
    "import pandas as pd"
   ]
  },
  {
   "cell_type": "code",
   "execution_count": 2,
   "metadata": {},
   "outputs": [],
   "source": [
    "df = pd.read_csv('hinhanhcrawl.csv')"
   ]
  },
  {
   "cell_type": "code",
   "execution_count": 3,
   "metadata": {},
   "outputs": [
    {
     "data": {
      "text/plain": [
       "(1243, 3)"
      ]
     },
     "execution_count": 3,
     "metadata": {},
     "output_type": "execute_result"
    }
   ],
   "source": [
    "df.shape"
   ]
  },
  {
   "cell_type": "code",
   "execution_count": 4,
   "metadata": {},
   "outputs": [
    {
     "data": {
      "text/plain": [
       "(1162, 3)"
      ]
     },
     "execution_count": 4,
     "metadata": {},
     "output_type": "execute_result"
    }
   ],
   "source": [
    "df=df.drop_duplicates()\n",
    "df.shape"
   ]
  },
  {
   "cell_type": "code",
   "execution_count": 5,
   "metadata": {},
   "outputs": [
    {
     "data": {
      "text/plain": [
       "(1124, 3)"
      ]
     },
     "execution_count": 5,
     "metadata": {},
     "output_type": "execute_result"
    }
   ],
   "source": [
    "df=df.dropna()\n",
    "df.shape"
   ]
  },
  {
   "cell_type": "code",
   "execution_count": 6,
   "metadata": {},
   "outputs": [],
   "source": [
    "df['ma_san_pham']=df['ma_san_pham'].astype('int')"
   ]
  },
  {
   "cell_type": "code",
   "execution_count": 7,
   "metadata": {},
   "outputs": [],
   "source": [
    "df = df.drop(columns='hinh_anh')"
   ]
  },
  {
   "cell_type": "code",
   "execution_count": 8,
   "metadata": {},
   "outputs": [],
   "source": [
    "df.rename(columns={\"hinh_anh_2\": \"hinh_anh\"}, inplace=True)"
   ]
  },
  {
   "cell_type": "code",
   "execution_count": 9,
   "metadata": {},
   "outputs": [
    {
     "data": {
      "text/html": [
       "<div>\n",
       "<style scoped>\n",
       "    .dataframe tbody tr th:only-of-type {\n",
       "        vertical-align: middle;\n",
       "    }\n",
       "\n",
       "    .dataframe tbody tr th {\n",
       "        vertical-align: top;\n",
       "    }\n",
       "\n",
       "    .dataframe thead th {\n",
       "        text-align: right;\n",
       "    }\n",
       "</style>\n",
       "<table border=\"1\" class=\"dataframe\">\n",
       "  <thead>\n",
       "    <tr style=\"text-align: right;\">\n",
       "      <th></th>\n",
       "      <th>ma_san_pham</th>\n",
       "      <th>hinh_anh</th>\n",
       "    </tr>\n",
       "  </thead>\n",
       "  <tbody>\n",
       "    <tr>\n",
       "      <th>0</th>\n",
       "      <td>253900006</td>\n",
       "      <td>https://media.hcdn.vn/catalog/product/p/r/prom...</td>\n",
       "    </tr>\n",
       "    <tr>\n",
       "      <th>1</th>\n",
       "      <td>422218358</td>\n",
       "      <td>https://media.hcdn.vn/catalog/product/p/r/prom...</td>\n",
       "    </tr>\n",
       "    <tr>\n",
       "      <th>2</th>\n",
       "      <td>422218359</td>\n",
       "      <td>https://media.hcdn.vn/catalog/product/p/r/prom...</td>\n",
       "    </tr>\n",
       "    <tr>\n",
       "      <th>3</th>\n",
       "      <td>204900013</td>\n",
       "      <td>https://media.hcdn.vn/catalog/product/p/r/prom...</td>\n",
       "    </tr>\n",
       "    <tr>\n",
       "      <th>4</th>\n",
       "      <td>100160022</td>\n",
       "      <td>https://media.hcdn.vn/catalog/product/p/r/prom...</td>\n",
       "    </tr>\n",
       "  </tbody>\n",
       "</table>\n",
       "</div>"
      ],
      "text/plain": [
       "   ma_san_pham                                           hinh_anh\n",
       "0    253900006  https://media.hcdn.vn/catalog/product/p/r/prom...\n",
       "1    422218358  https://media.hcdn.vn/catalog/product/p/r/prom...\n",
       "2    422218359  https://media.hcdn.vn/catalog/product/p/r/prom...\n",
       "3    204900013  https://media.hcdn.vn/catalog/product/p/r/prom...\n",
       "4    100160022  https://media.hcdn.vn/catalog/product/p/r/prom..."
      ]
     },
     "execution_count": 9,
     "metadata": {},
     "output_type": "execute_result"
    }
   ],
   "source": [
    "df.head()"
   ]
  },
  {
   "cell_type": "code",
   "execution_count": 10,
   "metadata": {},
   "outputs": [],
   "source": [
    "df.to_csv('hinhanh.csv',index=False)"
   ]
  },
  {
   "cell_type": "code",
   "execution_count": 14,
   "metadata": {},
   "outputs": [
    {
     "data": {
      "text/plain": [
       "(1186, 8)"
      ]
     },
     "execution_count": 14,
     "metadata": {},
     "output_type": "execute_result"
    }
   ],
   "source": [
    "df_product = pd.read_csv('Product.csv')\n",
    "df_product.shape"
   ]
  },
  {
   "cell_type": "code",
   "execution_count": 15,
   "metadata": {},
   "outputs": [
    {
     "data": {
      "text/plain": [
       "(1124, 2)"
      ]
     },
     "execution_count": 15,
     "metadata": {},
     "output_type": "execute_result"
    }
   ],
   "source": [
    "df_hinhanh =pd.read_csv('hinhanh.csv')\n",
    "df_hinhanh.shape"
   ]
  },
  {
   "cell_type": "code",
   "execution_count": 17,
   "metadata": {},
   "outputs": [
    {
     "name": "stdout",
     "output_type": "stream",
     "text": [
      "      Unnamed: 0  ma_san_pham  \\\n",
      "0              0    318900012   \n",
      "1              1    205100137   \n",
      "2              2    422208973   \n",
      "3              3    204900013   \n",
      "4              4    253900006   \n",
      "...          ...          ...   \n",
      "1191        1181    422219670   \n",
      "1192        1182    226200001   \n",
      "1193        1183    422218200   \n",
      "1194        1184    422206775   \n",
      "1195        1185    422207117   \n",
      "\n",
      "                                           ten_san_pham  gia_ban   gia_goc  \\\n",
      "0     Nước Hoa Hồng Klairs Không Mùi Cho Da Nhạy Cảm...   209000  435000.0   \n",
      "1     Nước Tẩy Trang L'Oreal Tươi Mát Cho Da Dầu, Hỗ...   147000  229000.0   \n",
      "2     Sữa Rửa Mặt CeraVe Sạch Sâu Cho Da Thường Đến ...   343000  455000.0   \n",
      "3     Kem Chống Nắng La Roche-Posay Kiểm Soát Dầu SP...   377000  560000.0   \n",
      "4     Kem Chống Nắng Skin1004 Cho Da Nhạy Cảm SPF 50...   210000  445000.0   \n",
      "...                                                 ...      ...       ...   \n",
      "1191  Serum Chống Nắng Dưỡng Thể Bioré Peach Pearly ...   185000  259000.0   \n",
      "1192                      Khăn Tẩy Trang Acnes 20 Miếng    53000   65000.0   \n",
      "1193  Mặt Nạ Colorkey Dưỡng Ẩm Sáng Da Với Niacinami...    11000   15000.0   \n",
      "1194  [Mua 1 Tặng 1] Freeplus Kem Dưỡng Ẩm Màng Nước...   899000  945000.0   \n",
      "1195  Lotion Curél Dưỡng Ẩm Chuyên Sâu Cho Da Lão Hó...   494000  641000.0   \n",
      "\n",
      "                                              phan_loai  \\\n",
      "0                  2x180ml 180ml Không Mùi Có Mùi Hương   \n",
      "1     2x400ml 95ml 400ml Làm Sạch Sâu Tươi Mát Da Ki...   \n",
      "2     88ml 236ml 473ml Da khô/Hỗn hợp khô Da dầu/Hỗn...   \n",
      "3                                           2x50ml 50ml   \n",
      "4                                             20ml 50ml   \n",
      "...                                                 ...   \n",
      "1191                      Light To Medium Medium To Tan   \n",
      "1192                                                NaN   \n",
      "1193  1 miếng 10 miếng Dưỡng Ẩm Ngừa Nụn Dưỡng Ẩm Dị...   \n",
      "1194                                                NaN   \n",
      "1195                                                NaN   \n",
      "\n",
      "                                                  mo_ta  diem_trung_binh  \\\n",
      "0     Nước Hoa Hồng Klairs Supple Preparation là dòn...              4.8   \n",
      "1     Nước Tẩy Trang L'Oréal là dòng sản phẩm tẩy tr...              4.7   \n",
      "2     Sữa Rửa Mặt Cerave Sạch Sâu là sản phẩm sữa rử...              4.9   \n",
      "3     Kem chống nắng giúp bảo vệ da khỏi tia UVB & U...              4.6   \n",
      "4     Kem Chống Nắng Skin1004 Cho Da Nhạy Cảm là sản...              4.6   \n",
      "...                                                 ...              ...   \n",
      "1191  Serum Chống Nắng Dưỡng Thể Bioré UV Aqua Rich ...              0.0   \n",
      "1192  Khăn Giấy Tẩy Trang Acnes Make Up Remover Shee...              3.5   \n",
      "1193  Mặt Nạ Colorkey Luminous B5 Facial Mask 25ml l...              4.0   \n",
      "1194  Bộ sản phẩm bao gồm 2 món:Kem Dưỡng Ẩm Màng Nư...              0.0   \n",
      "1195  Lotion Curél Dưỡng Ẩm Chuyên Sâu Cho Da Lão Hó...              5.0   \n",
      "\n",
      "                                               hinh_anh  \n",
      "0     https://media.hcdn.vn/catalog/product/p/r/prom...  \n",
      "1     https://media.hcdn.vn/catalog/product/f/a/face...  \n",
      "2     https://media.hcdn.vn/catalog/product/p/r/prom...  \n",
      "3     https://media.hcdn.vn/catalog/product/p/r/prom...  \n",
      "4     https://media.hcdn.vn/catalog/product/p/r/prom...  \n",
      "...                                                 ...  \n",
      "1191                                                NaN  \n",
      "1192  https://media.hcdn.vn/catalog/product/f/a/face...  \n",
      "1193                                                NaN  \n",
      "1194  https://media.hcdn.vn/catalog/product/f/a/face...  \n",
      "1195                                                NaN  \n",
      "\n",
      "[1196 rows x 9 columns]\n"
     ]
    }
   ],
   "source": [
    "df_merged = pd.merge(df_product, df_hinhanh, on=\"ma_san_pham\",how=\"left\")\n",
    "print(df_merged)"
   ]
  },
  {
   "cell_type": "code",
   "execution_count": 19,
   "metadata": {},
   "outputs": [],
   "source": [
    "df_merged['hinh_anh'] = df_merged['hinh_anh'].fillna('https://hasaki.vn/img/placeholder.svg')"
   ]
  },
  {
   "cell_type": "code",
   "execution_count": 21,
   "metadata": {},
   "outputs": [
    {
     "name": "stdout",
     "output_type": "stream",
     "text": [
      "      Unnamed: 0  ma_san_pham  \\\n",
      "0              0    318900012   \n",
      "1              1    205100137   \n",
      "2              2    422208973   \n",
      "3              3    204900013   \n",
      "4              4    253900006   \n",
      "...          ...          ...   \n",
      "1191        1181    422219670   \n",
      "1192        1182    226200001   \n",
      "1193        1183    422218200   \n",
      "1194        1184    422206775   \n",
      "1195        1185    422207117   \n",
      "\n",
      "                                           ten_san_pham  gia_ban   gia_goc  \\\n",
      "0     Nước Hoa Hồng Klairs Không Mùi Cho Da Nhạy Cảm...   209000  435000.0   \n",
      "1     Nước Tẩy Trang L'Oreal Tươi Mát Cho Da Dầu, Hỗ...   147000  229000.0   \n",
      "2     Sữa Rửa Mặt CeraVe Sạch Sâu Cho Da Thường Đến ...   343000  455000.0   \n",
      "3     Kem Chống Nắng La Roche-Posay Kiểm Soát Dầu SP...   377000  560000.0   \n",
      "4     Kem Chống Nắng Skin1004 Cho Da Nhạy Cảm SPF 50...   210000  445000.0   \n",
      "...                                                 ...      ...       ...   \n",
      "1191  Serum Chống Nắng Dưỡng Thể Bioré Peach Pearly ...   185000  259000.0   \n",
      "1192                      Khăn Tẩy Trang Acnes 20 Miếng    53000   65000.0   \n",
      "1193  Mặt Nạ Colorkey Dưỡng Ẩm Sáng Da Với Niacinami...    11000   15000.0   \n",
      "1194  [Mua 1 Tặng 1] Freeplus Kem Dưỡng Ẩm Màng Nước...   899000  945000.0   \n",
      "1195  Lotion Curél Dưỡng Ẩm Chuyên Sâu Cho Da Lão Hó...   494000  641000.0   \n",
      "\n",
      "                                              phan_loai  \\\n",
      "0                  2x180ml 180ml Không Mùi Có Mùi Hương   \n",
      "1     2x400ml 95ml 400ml Làm Sạch Sâu Tươi Mát Da Ki...   \n",
      "2     88ml 236ml 473ml Da khô/Hỗn hợp khô Da dầu/Hỗn...   \n",
      "3                                           2x50ml 50ml   \n",
      "4                                             20ml 50ml   \n",
      "...                                                 ...   \n",
      "1191                      Light To Medium Medium To Tan   \n",
      "1192                                                NaN   \n",
      "1193  1 miếng 10 miếng Dưỡng Ẩm Ngừa Nụn Dưỡng Ẩm Dị...   \n",
      "1194                                                NaN   \n",
      "1195                                                NaN   \n",
      "\n",
      "                                                  mo_ta  diem_trung_binh  \\\n",
      "0     Nước Hoa Hồng Klairs Supple Preparation là dòn...              4.8   \n",
      "1     Nước Tẩy Trang L'Oréal là dòng sản phẩm tẩy tr...              4.7   \n",
      "2     Sữa Rửa Mặt Cerave Sạch Sâu là sản phẩm sữa rử...              4.9   \n",
      "3     Kem chống nắng giúp bảo vệ da khỏi tia UVB & U...              4.6   \n",
      "4     Kem Chống Nắng Skin1004 Cho Da Nhạy Cảm là sản...              4.6   \n",
      "...                                                 ...              ...   \n",
      "1191  Serum Chống Nắng Dưỡng Thể Bioré UV Aqua Rich ...              0.0   \n",
      "1192  Khăn Giấy Tẩy Trang Acnes Make Up Remover Shee...              3.5   \n",
      "1193  Mặt Nạ Colorkey Luminous B5 Facial Mask 25ml l...              4.0   \n",
      "1194  Bộ sản phẩm bao gồm 2 món:Kem Dưỡng Ẩm Màng Nư...              0.0   \n",
      "1195  Lotion Curél Dưỡng Ẩm Chuyên Sâu Cho Da Lão Hó...              5.0   \n",
      "\n",
      "                                               hinh_anh  \n",
      "0     https://media.hcdn.vn/catalog/product/p/r/prom...  \n",
      "1     https://media.hcdn.vn/catalog/product/f/a/face...  \n",
      "2     https://media.hcdn.vn/catalog/product/p/r/prom...  \n",
      "3     https://media.hcdn.vn/catalog/product/p/r/prom...  \n",
      "4     https://media.hcdn.vn/catalog/product/p/r/prom...  \n",
      "...                                                 ...  \n",
      "1191              https://hasaki.vn/img/placeholder.svg  \n",
      "1192  https://media.hcdn.vn/catalog/product/f/a/face...  \n",
      "1193              https://hasaki.vn/img/placeholder.svg  \n",
      "1194  https://media.hcdn.vn/catalog/product/f/a/face...  \n",
      "1195              https://hasaki.vn/img/placeholder.svg  \n",
      "\n",
      "[1196 rows x 9 columns]\n"
     ]
    }
   ],
   "source": [
    "print(df_merged)"
   ]
  },
  {
   "cell_type": "code",
   "execution_count": 20,
   "metadata": {},
   "outputs": [],
   "source": [
    "df_merged.to_csv('Product1.csv',index=False)"
   ]
  },
  {
   "cell_type": "code",
   "execution_count": 100,
   "metadata": {},
   "outputs": [
    {
     "data": {
      "text/plain": [
       "(21575, 7)"
      ]
     },
     "execution_count": 100,
     "metadata": {},
     "output_type": "execute_result"
    }
   ],
   "source": [
    "df_danhgia = pd.read_csv('Danh_gia.csv')\n",
    "df_danhgia.shape"
   ]
  },
  {
   "cell_type": "code",
   "execution_count": 101,
   "metadata": {},
   "outputs": [],
   "source": [
    "df_danhgia.drop_duplicates(inplace=True)"
   ]
  },
  {
   "cell_type": "code",
   "execution_count": 102,
   "metadata": {},
   "outputs": [
    {
     "data": {
      "text/plain": [
       "id                      0\n",
       "ma_khach_hang           0\n",
       "noi_dung_binh_luan    901\n",
       "ngay_binh_luan          0\n",
       "gio_binh_luan           0\n",
       "so_sao                  0\n",
       "ma_san_pham             0\n",
       "dtype: int64"
      ]
     },
     "execution_count": 102,
     "metadata": {},
     "output_type": "execute_result"
    }
   ],
   "source": [
    "df_danhgia.isnull().sum()"
   ]
  },
  {
   "cell_type": "code",
   "execution_count": 103,
   "metadata": {},
   "outputs": [
    {
     "data": {
      "text/plain": [
       "id                      0\n",
       "ma_khach_hang           0\n",
       "noi_dung_binh_luan    901\n",
       "ngay_binh_luan          0\n",
       "gio_binh_luan           0\n",
       "so_sao                  0\n",
       "ma_san_pham             0\n",
       "dtype: int64"
      ]
     },
     "execution_count": 103,
     "metadata": {},
     "output_type": "execute_result"
    }
   ],
   "source": [
    "df_danhgia.isna().sum()"
   ]
  },
  {
   "cell_type": "code",
   "execution_count": 104,
   "metadata": {},
   "outputs": [
    {
     "data": {
      "text/plain": [
       "(20674, 7)"
      ]
     },
     "execution_count": 104,
     "metadata": {},
     "output_type": "execute_result"
    }
   ],
   "source": [
    "df_danhgia = df_danhgia.dropna()\n",
    "df_danhgia.shape"
   ]
  },
  {
   "cell_type": "code",
   "execution_count": 105,
   "metadata": {},
   "outputs": [
    {
     "data": {
      "text/plain": [
       "(20674, 10)"
      ]
     },
     "execution_count": 105,
     "metadata": {},
     "output_type": "execute_result"
    }
   ],
   "source": [
    "df_output = pd.read_csv('output.csv')\n",
    "df_output.shape"
   ]
  },
  {
   "cell_type": "code",
   "execution_count": 106,
   "metadata": {},
   "outputs": [],
   "source": [
    "df_danhgia.to_csv('Danh_gia1.csv',index=False)"
   ]
  },
  {
   "cell_type": "code",
   "execution_count": 113,
   "metadata": {},
   "outputs": [],
   "source": [
    "luotmua = df_danhgia[df_danhgia['ma_san_pham']==100100001].groupby('ma_san_pham',as_index=False)['ma_khach_hang'].count()"
   ]
  },
  {
   "cell_type": "code",
   "execution_count": 114,
   "metadata": {},
   "outputs": [
    {
     "data": {
      "text/html": [
       "<div>\n",
       "<style scoped>\n",
       "    .dataframe tbody tr th:only-of-type {\n",
       "        vertical-align: middle;\n",
       "    }\n",
       "\n",
       "    .dataframe tbody tr th {\n",
       "        vertical-align: top;\n",
       "    }\n",
       "\n",
       "    .dataframe thead th {\n",
       "        text-align: right;\n",
       "    }\n",
       "</style>\n",
       "<table border=\"1\" class=\"dataframe\">\n",
       "  <thead>\n",
       "    <tr style=\"text-align: right;\">\n",
       "      <th></th>\n",
       "      <th>ma_san_pham</th>\n",
       "      <th>ma_khach_hang</th>\n",
       "    </tr>\n",
       "  </thead>\n",
       "  <tbody>\n",
       "    <tr>\n",
       "      <th>0</th>\n",
       "      <td>100100001</td>\n",
       "      <td>8</td>\n",
       "    </tr>\n",
       "  </tbody>\n",
       "</table>\n",
       "</div>"
      ],
      "text/plain": [
       "   ma_san_pham  ma_khach_hang\n",
       "0    100100001              8"
      ]
     },
     "execution_count": 114,
     "metadata": {},
     "output_type": "execute_result"
    }
   ],
   "source": [
    "luotmua"
   ]
  },
  {
   "cell_type": "code",
   "execution_count": null,
   "metadata": {},
   "outputs": [
    {
     "data": {
      "text/html": [
       "<div>\n",
       "<style scoped>\n",
       "    .dataframe tbody tr th:only-of-type {\n",
       "        vertical-align: middle;\n",
       "    }\n",
       "\n",
       "    .dataframe tbody tr th {\n",
       "        vertical-align: top;\n",
       "    }\n",
       "\n",
       "    .dataframe thead th {\n",
       "        text-align: right;\n",
       "    }\n",
       "</style>\n",
       "<table border=\"1\" class=\"dataframe\">\n",
       "  <thead>\n",
       "    <tr style=\"text-align: right;\">\n",
       "      <th></th>\n",
       "      <th>id</th>\n",
       "      <th>ma_khach_hang</th>\n",
       "      <th>noi_dung_binh_luan</th>\n",
       "      <th>ngay_binh_luan</th>\n",
       "      <th>gio_binh_luan</th>\n",
       "      <th>so_sao</th>\n",
       "      <th>ma_san_pham</th>\n",
       "    </tr>\n",
       "  </thead>\n",
       "  <tbody>\n",
       "    <tr>\n",
       "      <th>4160</th>\n",
       "      <td>4161</td>\n",
       "      <td>1216</td>\n",
       "      <td>sáp dưỡng môi không mùi, chất khá dày, dưỡng m...</td>\n",
       "      <td>31/12/2021</td>\n",
       "      <td>13:33</td>\n",
       "      <td>5</td>\n",
       "      <td>100100001</td>\n",
       "    </tr>\n",
       "    <tr>\n",
       "      <th>4206</th>\n",
       "      <td>4207</td>\n",
       "      <td>1551</td>\n",
       "      <td>Dùng xong môi mềm mượt, hủ lớn sài đc lâu, sáp...</td>\n",
       "      <td>8/6/2022</td>\n",
       "      <td>12:34</td>\n",
       "      <td>5</td>\n",
       "      <td>100100001</td>\n",
       "    </tr>\n",
       "    <tr>\n",
       "      <th>7662</th>\n",
       "      <td>7663</td>\n",
       "      <td>1260</td>\n",
       "      <td>Hũ này dùng được lâu đa năng</td>\n",
       "      <td>1/10/2023</td>\n",
       "      <td>15:12</td>\n",
       "      <td>5</td>\n",
       "      <td>100100001</td>\n",
       "    </tr>\n",
       "    <tr>\n",
       "      <th>9718</th>\n",
       "      <td>9719</td>\n",
       "      <td>2084</td>\n",
       "      <td>đồ quốc dân đa công dụng ✨</td>\n",
       "      <td>10/4/2024</td>\n",
       "      <td>16:26</td>\n",
       "      <td>5</td>\n",
       "      <td>100100001</td>\n",
       "    </tr>\n",
       "    <tr>\n",
       "      <th>11507</th>\n",
       "      <td>11508</td>\n",
       "      <td>1932</td>\n",
       "      <td>Cực kỳ bực mình vì sản phẩm quá kém chất lượng.</td>\n",
       "      <td>9/5/2021</td>\n",
       "      <td>16:42</td>\n",
       "      <td>1</td>\n",
       "      <td>100100001</td>\n",
       "    </tr>\n",
       "    <tr>\n",
       "      <th>15794</th>\n",
       "      <td>15795</td>\n",
       "      <td>3954</td>\n",
       "      <td>5 sao</td>\n",
       "      <td>13/09/2023</td>\n",
       "      <td>12:32</td>\n",
       "      <td>5</td>\n",
       "      <td>100100001</td>\n",
       "    </tr>\n",
       "    <tr>\n",
       "      <th>17526</th>\n",
       "      <td>17527</td>\n",
       "      <td>3957</td>\n",
       "      <td>Dưỡng ẩm cũng ok mà hơi lâu khô</td>\n",
       "      <td>16/02/2023</td>\n",
       "      <td>23:07</td>\n",
       "      <td>4</td>\n",
       "      <td>100100001</td>\n",
       "    </tr>\n",
       "    <tr>\n",
       "      <th>19463</th>\n",
       "      <td>19464</td>\n",
       "      <td>3953</td>\n",
       "      <td>Khá nhiều, dùng oki nha, shipper thân thiện 10đ</td>\n",
       "      <td>6/10/2023</td>\n",
       "      <td>17:11</td>\n",
       "      <td>5</td>\n",
       "      <td>100100001</td>\n",
       "    </tr>\n",
       "  </tbody>\n",
       "</table>\n",
       "</div>"
      ],
      "text/plain": [
       "          id  ma_khach_hang  \\\n",
       "4160    4161           1216   \n",
       "4206    4207           1551   \n",
       "7662    7663           1260   \n",
       "9718    9719           2084   \n",
       "11507  11508           1932   \n",
       "15794  15795           3954   \n",
       "17526  17527           3957   \n",
       "19463  19464           3953   \n",
       "\n",
       "                                      noi_dung_binh_luan ngay_binh_luan  \\\n",
       "4160   sáp dưỡng môi không mùi, chất khá dày, dưỡng m...     31/12/2021   \n",
       "4206   Dùng xong môi mềm mượt, hủ lớn sài đc lâu, sáp...       8/6/2022   \n",
       "7662                        Hũ này dùng được lâu đa năng      1/10/2023   \n",
       "9718                          đồ quốc dân đa công dụng ✨      10/4/2024   \n",
       "11507    Cực kỳ bực mình vì sản phẩm quá kém chất lượng.       9/5/2021   \n",
       "15794                                              5 sao     13/09/2023   \n",
       "17526                    Dưỡng ẩm cũng ok mà hơi lâu khô     16/02/2023   \n",
       "19463    Khá nhiều, dùng oki nha, shipper thân thiện 10đ      6/10/2023   \n",
       "\n",
       "      gio_binh_luan  so_sao  ma_san_pham  \n",
       "4160          13:33       5    100100001  \n",
       "4206          12:34       5    100100001  \n",
       "7662          15:12       5    100100001  \n",
       "9718          16:26       5    100100001  \n",
       "11507         16:42       1    100100001  \n",
       "15794         12:32       5    100100001  \n",
       "17526         23:07       4    100100001  \n",
       "19463         17:11       5    100100001  "
      ]
     },
     "execution_count": 126,
     "metadata": {},
     "output_type": "execute_result"
    }
   ],
   "source": [
    "df_danhgia[df_danhgia['ma_san_pham']==100100001][['noi_dung_binh_luan','gio_binh_luan','ngay_binh_luan']].values[1]"
   ]
  },
  {
   "cell_type": "code",
   "execution_count": 132,
   "metadata": {},
   "outputs": [
    {
     "data": {
      "text/html": [
       "<div>\n",
       "<style scoped>\n",
       "    .dataframe tbody tr th:only-of-type {\n",
       "        vertical-align: middle;\n",
       "    }\n",
       "\n",
       "    .dataframe tbody tr th {\n",
       "        vertical-align: top;\n",
       "    }\n",
       "\n",
       "    .dataframe thead th {\n",
       "        text-align: right;\n",
       "    }\n",
       "</style>\n",
       "<table border=\"1\" class=\"dataframe\">\n",
       "  <thead>\n",
       "    <tr style=\"text-align: right;\">\n",
       "      <th></th>\n",
       "      <th>so_sao</th>\n",
       "      <th>tong_so_luong</th>\n",
       "    </tr>\n",
       "  </thead>\n",
       "  <tbody>\n",
       "    <tr>\n",
       "      <th>0</th>\n",
       "      <td>1</td>\n",
       "      <td>1</td>\n",
       "    </tr>\n",
       "    <tr>\n",
       "      <th>1</th>\n",
       "      <td>4</td>\n",
       "      <td>1</td>\n",
       "    </tr>\n",
       "    <tr>\n",
       "      <th>2</th>\n",
       "      <td>5</td>\n",
       "      <td>6</td>\n",
       "    </tr>\n",
       "  </tbody>\n",
       "</table>\n",
       "</div>"
      ],
      "text/plain": [
       "   so_sao  tong_so_luong\n",
       "0       1              1\n",
       "1       4              1\n",
       "2       5              6"
      ]
     },
     "execution_count": 132,
     "metadata": {},
     "output_type": "execute_result"
    }
   ],
   "source": [
    "paint = df_danhgia[df_danhgia['ma_san_pham']==100100001].groupby('so_sao',as_index=False)['ma_khach_hang'].count()\n",
    "paint.rename(columns={\"ma_khach_hang\": \"tong_so_luong\"}, inplace=True)\n",
    "paint"
   ]
  },
  {
   "cell_type": "code",
   "execution_count": null,
   "metadata": {},
   "outputs": [
    {
     "data": {
      "text/html": [
       "<div>\n",
       "<style scoped>\n",
       "    .dataframe tbody tr th:only-of-type {\n",
       "        vertical-align: middle;\n",
       "    }\n",
       "\n",
       "    .dataframe tbody tr th {\n",
       "        vertical-align: top;\n",
       "    }\n",
       "\n",
       "    .dataframe thead th {\n",
       "        text-align: right;\n",
       "    }\n",
       "</style>\n",
       "<table border=\"1\" class=\"dataframe\">\n",
       "  <thead>\n",
       "    <tr style=\"text-align: right;\">\n",
       "      <th></th>\n",
       "      <th>id</th>\n",
       "      <th>ma_khach_hang</th>\n",
       "      <th>noi_dung_binh_luan</th>\n",
       "      <th>ngay_binh_luan</th>\n",
       "      <th>gio_binh_luan</th>\n",
       "      <th>so_sao</th>\n",
       "      <th>ma_san_pham</th>\n",
       "    </tr>\n",
       "  </thead>\n",
       "  <tbody>\n",
       "    <tr>\n",
       "      <th>4160</th>\n",
       "      <td>4161</td>\n",
       "      <td>1216</td>\n",
       "      <td>sáp dưỡng môi không mùi, chất khá dày, dưỡng m...</td>\n",
       "      <td>31/12/2021</td>\n",
       "      <td>13:33</td>\n",
       "      <td>5</td>\n",
       "      <td>100100001</td>\n",
       "    </tr>\n",
       "    <tr>\n",
       "      <th>4206</th>\n",
       "      <td>4207</td>\n",
       "      <td>1551</td>\n",
       "      <td>Dùng xong môi mềm mượt, hủ lớn sài đc lâu, sáp...</td>\n",
       "      <td>8/6/2022</td>\n",
       "      <td>12:34</td>\n",
       "      <td>5</td>\n",
       "      <td>100100001</td>\n",
       "    </tr>\n",
       "    <tr>\n",
       "      <th>7662</th>\n",
       "      <td>7663</td>\n",
       "      <td>1260</td>\n",
       "      <td>Hũ này dùng được lâu đa năng</td>\n",
       "      <td>1/10/2023</td>\n",
       "      <td>15:12</td>\n",
       "      <td>5</td>\n",
       "      <td>100100001</td>\n",
       "    </tr>\n",
       "    <tr>\n",
       "      <th>9718</th>\n",
       "      <td>9719</td>\n",
       "      <td>2084</td>\n",
       "      <td>đồ quốc dân đa công dụng ✨</td>\n",
       "      <td>10/4/2024</td>\n",
       "      <td>16:26</td>\n",
       "      <td>5</td>\n",
       "      <td>100100001</td>\n",
       "    </tr>\n",
       "    <tr>\n",
       "      <th>11507</th>\n",
       "      <td>11508</td>\n",
       "      <td>1932</td>\n",
       "      <td>Cực kỳ bực mình vì sản phẩm quá kém chất lượng.</td>\n",
       "      <td>9/5/2021</td>\n",
       "      <td>16:42</td>\n",
       "      <td>1</td>\n",
       "      <td>100100001</td>\n",
       "    </tr>\n",
       "    <tr>\n",
       "      <th>15794</th>\n",
       "      <td>15795</td>\n",
       "      <td>3954</td>\n",
       "      <td>5 sao</td>\n",
       "      <td>13/09/2023</td>\n",
       "      <td>12:32</td>\n",
       "      <td>5</td>\n",
       "      <td>100100001</td>\n",
       "    </tr>\n",
       "    <tr>\n",
       "      <th>17526</th>\n",
       "      <td>17527</td>\n",
       "      <td>3957</td>\n",
       "      <td>Dưỡng ẩm cũng ok mà hơi lâu khô</td>\n",
       "      <td>16/02/2023</td>\n",
       "      <td>23:07</td>\n",
       "      <td>4</td>\n",
       "      <td>100100001</td>\n",
       "    </tr>\n",
       "    <tr>\n",
       "      <th>19463</th>\n",
       "      <td>19464</td>\n",
       "      <td>3953</td>\n",
       "      <td>Khá nhiều, dùng oki nha, shipper thân thiện 10đ</td>\n",
       "      <td>6/10/2023</td>\n",
       "      <td>17:11</td>\n",
       "      <td>5</td>\n",
       "      <td>100100001</td>\n",
       "    </tr>\n",
       "  </tbody>\n",
       "</table>\n",
       "</div>"
      ],
      "text/plain": [
       "          id  ma_khach_hang  \\\n",
       "4160    4161           1216   \n",
       "4206    4207           1551   \n",
       "7662    7663           1260   \n",
       "9718    9719           2084   \n",
       "11507  11508           1932   \n",
       "15794  15795           3954   \n",
       "17526  17527           3957   \n",
       "19463  19464           3953   \n",
       "\n",
       "                                      noi_dung_binh_luan ngay_binh_luan  \\\n",
       "4160   sáp dưỡng môi không mùi, chất khá dày, dưỡng m...     31/12/2021   \n",
       "4206   Dùng xong môi mềm mượt, hủ lớn sài đc lâu, sáp...       8/6/2022   \n",
       "7662                        Hũ này dùng được lâu đa năng      1/10/2023   \n",
       "9718                          đồ quốc dân đa công dụng ✨      10/4/2024   \n",
       "11507    Cực kỳ bực mình vì sản phẩm quá kém chất lượng.       9/5/2021   \n",
       "15794                                              5 sao     13/09/2023   \n",
       "17526                    Dưỡng ẩm cũng ok mà hơi lâu khô     16/02/2023   \n",
       "19463    Khá nhiều, dùng oki nha, shipper thân thiện 10đ      6/10/2023   \n",
       "\n",
       "      gio_binh_luan  so_sao  ma_san_pham  \n",
       "4160          13:33       5    100100001  \n",
       "4206          12:34       5    100100001  \n",
       "7662          15:12       5    100100001  \n",
       "9718          16:26       5    100100001  \n",
       "11507         16:42       1    100100001  \n",
       "15794         12:32       5    100100001  \n",
       "17526         23:07       4    100100001  \n",
       "19463         17:11       5    100100001  "
      ]
     },
     "execution_count": 130,
     "metadata": {},
     "output_type": "execute_result"
    }
   ],
   "source": [
    "df_danhgia[df_danhgia['ma_san_pham']==100100001]"
   ]
  }
 ],
 "metadata": {
  "kernelspec": {
   "display_name": "Python 3",
   "language": "python",
   "name": "python3"
  },
  "language_info": {
   "codemirror_mode": {
    "name": "ipython",
    "version": 3
   },
   "file_extension": ".py",
   "mimetype": "text/x-python",
   "name": "python",
   "nbconvert_exporter": "python",
   "pygments_lexer": "ipython3",
   "version": "3.10.10"
  }
 },
 "nbformat": 4,
 "nbformat_minor": 2
}
